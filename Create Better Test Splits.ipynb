{
 "cells": [
  {
   "cell_type": "code",
   "execution_count": 1,
   "metadata": {},
   "outputs": [],
   "source": [
    "%matplotlib inline\n",
    "import sys, os, time\n",
    "\n",
    "import numpy as np\n",
    "import pandas as pd\n",
    "\n",
    "import fiona\n",
    "import rasterio\n",
    "\n",
    "import matplotlib.pyplot as plt\n",
    "\n",
    "from collections import Counter, defaultdict"
   ]
  },
  {
   "cell_type": "code",
   "execution_count": 2,
   "metadata": {},
   "outputs": [],
   "source": [
    "f = fiona.open(\"../data/good_blobs_epsg4326.shp\",\"r\")\n",
    "fns = []\n",
    "for line in f:\n",
    "    fns.append(line[\"properties\"][\"location\"])\n",
    "f.close()"
   ]
  },
  {
   "cell_type": "code",
   "execution_count": 3,
   "metadata": {},
   "outputs": [],
   "source": [
    "state_year_fns = defaultdict(list)\n",
    "for fn in fns:\n",
    "    parts = fn.split(\"/\")\n",
    "    state_year_fns[parts[9]].append(fn)"
   ]
  },
  {
   "cell_type": "code",
   "execution_count": 4,
   "metadata": {},
   "outputs": [
    {
     "name": "stdout",
     "output_type": "stream",
     "text": [
      "md_1m_2013 823\n",
      "va_1m_2014 2056\n",
      "pa_1m_2013 2430\n",
      "wv_1m_2014 594\n",
      "nc_1m_2014 9\n",
      "ny_1m_2013 1308\n",
      "nj_1m_2013 27\n",
      "md_1m_2015 9\n",
      "de_1m_2013 144\n"
     ]
    }
   ],
   "source": [
    "for k, vs in state_year_fns.items():\n",
    "    print(k, len(vs))"
   ]
  },
  {
   "cell_type": "code",
   "execution_count": 5,
   "metadata": {},
   "outputs": [],
   "source": [
    "good_blobs_to_best_tiles_map = {}\n",
    "f = open(\"../data/good_blobs_to_best_tiles_map.csv\", \"r\")\n",
    "f.readline()\n",
    "lines = f.read().strip().split(\"\\n\")\n",
    "for line in lines:\n",
    "    parts = line.split(\",\")\n",
    "    good_blobs_to_best_tiles_map[parts[0]] = parts[1]\n",
    "f.close()"
   ]
  },
  {
   "cell_type": "code",
   "execution_count": 62,
   "metadata": {},
   "outputs": [
    {
     "name": "stdout",
     "output_type": "stream",
     "text": [
      "nj_1m_2013 27\n",
      "wv_1m_2014 50\n",
      "md_1m_2013 50\n",
      "va_1m_2014 50\n",
      "md_1m_2015 9\n",
      "pa_1m_2013 50\n",
      "de_1m_2013 50\n",
      "ny_1m_2013 50\n",
      "nc_1m_2014 9\n"
     ]
    }
   ],
   "source": [
    "for k, vs in state_year_fns.items():\n",
    "    \n",
    "    samples = np.random.choice(vs, min(len(vs), 50), replace=False)\n",
    "    print(k, len(samples))\n",
    "    f = open(\"splits/%s_test_split.csv\" % (k),\"w\")\n",
    "    f.write(\"naip_path,lc_path,nlcd_path\\n\")\n",
    "    for i, naip_fn in enumerate(samples):\n",
    "        lc_fn = naip_fn.replace(\"esri-naip\", \"resampled-lc\")[:-4] + \"_lc.tif\"\n",
    "        nlcd_fn = good_blobs_to_best_tiles_map[naip_fn].replace(\"esri-naip\", \"resampled-nlcd\")[:-4] + \"_nlcd.tif\"\n",
    "        f.write(\"%s,%s,%s\\n\" % (naip_fn, lc_fn, nlcd_fn))\n",
    "    f.close()"
   ]
  },
  {
   "cell_type": "code",
   "execution_count": 64,
   "metadata": {},
   "outputs": [],
   "source": [
    "def get_lc_stats(data):\n",
    "    vals = [1, 2, 3, 4, 5, 6, 15]\n",
    "    counts = []\n",
    "    for val in vals:\n",
    "        counts.append((data==val).sum())\n",
    "    return np.array(counts)"
   ]
  },
  {
   "cell_type": "code",
   "execution_count": 65,
   "metadata": {},
   "outputs": [
    {
     "name": "stdout",
     "output_type": "stream",
     "text": [
      "nj_1m_2013\n",
      "wv_1m_2014\n",
      "md_1m_2013\n",
      "va_1m_2014\n",
      "md_1m_2015\n",
      "pa_1m_2013\n",
      "de_1m_2013\n",
      "ny_1m_2013\n",
      "nc_1m_2014\n"
     ]
    }
   ],
   "source": [
    "lc_counts = {}\n",
    "for k, vs in state_year_fns.items():\n",
    "    print(k)\n",
    "    \n",
    "    df = pd.read_csv(\"splits/%s_test_split.csv\" % (k))\n",
    "    naip_fns =  df[\"naip_path\"].values\n",
    "    lc_fns = df[\"lc_path\"].values\n",
    "    nlcd_fns = df[\"nlcd_path\"].values\n",
    "    \n",
    "    counts = []\n",
    "    for i in range(len(naip_fns)):\n",
    "        f = rasterio.open(lc_fns[i],\"r\")\n",
    "        lc_data = f.read().squeeze()\n",
    "        f.close()\n",
    "        \n",
    "        assert os.path.exists(nlcd_fns[i])\n",
    "        \n",
    "        counts.append(get_lc_stats(lc_data))\n",
    "        \n",
    "    lc_counts[k] = np.array(counts)"
   ]
  },
  {
   "cell_type": "code",
   "execution_count": 67,
   "metadata": {},
   "outputs": [],
   "source": [
    "for k, vs in state_year_fns.items():\n",
    "    \n",
    "    df = pd.read_csv(\"splits/%s_test_split.csv\" % (k))\n",
    "    naip_fns =  df[\"naip_path\"].values\n",
    "    lc_fns = df[\"lc_path\"].values\n",
    "    nlcd_fns = df[\"nlcd_path\"].values\n",
    "    \n",
    "    f = open(\"splits/%s_test_split_lc_counts.csv\" % (k),\"w\")\n",
    "    f.write(\"naip_path,count lc 1,count lc 2,count lc 3,count lc 4,count lc 5,count lc 6,count lc 15\\n\")\n",
    "    for i in range(len(naip_fns)):\n",
    "        f.write(\"%s,\" % (naip_fns[i]))\n",
    "        for j in range(lc_counts[k].shape[1]):\n",
    "            f.write(\"%d\" % (lc_counts[k][i,j]))\n",
    "            if j < lc_counts[k].shape[1]-1:\n",
    "                f.write(\",\")\n",
    "        f.write(\"\\n\")\n",
    "    f.close()"
   ]
  },
  {
   "cell_type": "code",
   "execution_count": 72,
   "metadata": {
    "scrolled": false
   },
   "outputs": [
    {
     "name": "stdout",
     "output_type": "stream",
     "text": [
      "nj_1m_2013\n",
      "\t [0.06 0.3  0.19 0.   0.22 0.03 0.2 ]\n",
      "\t [0.02 0.14 0.07 0.   0.02 0.01 0.74]\n",
      "\t [0.05 0.21 0.08 0.   0.11 0.02 0.54]\n",
      "\t [0.02 0.14 0.02 0.   0.   0.   0.82]\n",
      "\t [0.01 0.05 0.07 0.01 0.02 0.   0.84]\n",
      "\t [0.   0.   0.   0.   0.01 0.   0.98]\n",
      "\t [0.08 0.01 0.05 0.   0.06 0.   0.8 ]\n",
      "\t [0.02 0.16 0.1  0.01 0.01 0.   0.7 ]\n",
      "\t [0.02 0.29 0.39 0.01 0.02 0.01 0.27]\n",
      "\t [0.03 0.33 0.26 0.01 0.3  0.05 0.02]\n",
      "\t [0.09 0.04 0.04 0.01 0.22 0.05 0.55]\n",
      "\t [0.02 0.46 0.34 0.   0.04 0.01 0.12]\n",
      "\t [0.02 0.32 0.26 0.01 0.3  0.07 0.02]\n",
      "\t [0.04 0.59 0.17 0.   0.01 0.01 0.19]\n",
      "\t [0.01 0.08 0.04 0.   0.01 0.   0.86]\n",
      "\t [0.01 0.04 0.01 0.   0.   0.   0.94]\n",
      "\t [0.01 0.4  0.45 0.   0.07 0.02 0.04]\n",
      "\t [0.01 0.   0.   0.   0.   0.   0.98]\n",
      "\t [0.11 0.11 0.09 0.   0.18 0.04 0.47]\n",
      "\t [0.05 0.07 0.05 0.02 0.05 0.   0.75]\n",
      "\t [0.15 0.05 0.09 0.01 0.1  0.02 0.58]\n",
      "\t [0.28 0.22 0.2  0.07 0.13 0.02 0.09]\n",
      "\t [0.01 0.05 0.01 0.   0.   0.   0.92]\n",
      "\t [0.01 0.45 0.24 0.   0.18 0.04 0.08]\n",
      "\t [0.02 0.27 0.04 0.   0.   0.   0.67]\n",
      "\t [0.   0.23 0.12 0.01 0.11 0.05 0.48]\n",
      "\t [0.06 0.06 0.05 0.   0.04 0.01 0.78]\n",
      "wv_1m_2014\n",
      "\t [0.   0.73 0.26 0.   0.   0.   0.  ]\n",
      "\t [0.   0.62 0.36 0.   0.01 0.   0.  ]\n",
      "\t [0.   0.97 0.03 0.   0.   0.   0.  ]\n",
      "\t [0.   0.05 0.   0.   0.   0.   0.95]\n",
      "\t [0.01 0.83 0.14 0.   0.01 0.01 0.  ]\n",
      "\t [0.   0.85 0.14 0.   0.   0.   0.  ]\n",
      "\t [0.   0.92 0.07 0.   0.   0.   0.  ]\n",
      "\t [0.   0.17 0.03 0.   0.   0.   0.8 ]\n",
      "\t [0.   0.91 0.08 0.   0.   0.   0.  ]\n",
      "\t [0.   0.98 0.01 0.   0.   0.   0.  ]\n",
      "\t [0.04 0.37 0.54 0.   0.04 0.02 0.  ]\n",
      "\t [0.02 0.44 0.51 0.   0.02 0.01 0.  ]\n",
      "\t [0.   0.94 0.05 0.   0.   0.   0.  ]\n",
      "\t [0.   0.77 0.23 0.   0.   0.   0.  ]\n",
      "\t [0.   0.95 0.03 0.   0.   0.   0.02]\n",
      "\t [0.   0.96 0.03 0.   0.   0.   0.  ]\n",
      "\t [0.   0.77 0.22 0.   0.01 0.   0.  ]\n",
      "\t [0.   0.65 0.26 0.   0.01 0.01 0.06]\n",
      "\t [0.   0.05 0.   0.   0.   0.   0.95]\n",
      "\t [0.   0.93 0.07 0.   0.   0.   0.  ]\n",
      "\t [0.   0.29 0.66 0.   0.03 0.01 0.  ]\n",
      "\t [0.   0.38 0.   0.   0.   0.   0.62]\n",
      "\t [0.   0.6  0.37 0.   0.01 0.   0.  ]\n",
      "\t [0.   0.94 0.05 0.   0.01 0.   0.  ]\n",
      "\t [0.   0.85 0.14 0.   0.   0.   0.  ]\n",
      "\t [0.   0.91 0.08 0.   0.   0.01 0.  ]\n",
      "\t [0.   0.93 0.07 0.   0.   0.   0.  ]\n",
      "\t [0.   0.4  0.24 0.   0.   0.   0.35]\n",
      "\t [0.   0.23 0.71 0.   0.04 0.01 0.  ]\n",
      "\t [0.   0.58 0.41 0.   0.01 0.01 0.  ]\n",
      "\t [0.   0.21 0.14 0.   0.   0.   0.65]\n",
      "\t [0.   0.33 0.66 0.   0.01 0.   0.  ]\n",
      "\t [0.   0.82 0.   0.   0.   0.   0.18]\n",
      "\t [0.   0.97 0.02 0.   0.   0.   0.  ]\n",
      "\t [0.   0.69 0.26 0.   0.03 0.02 0.  ]\n",
      "\t [0.   0.9  0.09 0.   0.   0.   0.  ]\n",
      "\t [0.01 0.69 0.26 0.01 0.02 0.01 0.  ]\n",
      "\t [0.   0.81 0.18 0.   0.   0.   0.  ]\n",
      "\t [0.02 0.7  0.25 0.   0.02 0.   0.  ]\n",
      "\t [0.02 0.85 0.11 0.   0.01 0.01 0.  ]\n",
      "\t [0.02 0.95 0.03 0.   0.   0.   0.  ]\n",
      "\t [0. 1. 0. 0. 0. 0. 0.]\n",
      "\t [0.   0.8  0.02 0.   0.   0.   0.18]\n",
      "\t [0.02 0.49 0.48 0.   0.01 0.   0.  ]\n",
      "\t [0.   0.33 0.65 0.   0.01 0.01 0.  ]\n",
      "\t [0.   0.93 0.07 0.   0.   0.   0.  ]\n",
      "\t [0.06 0.41 0.48 0.   0.04 0.01 0.  ]\n",
      "\t [0.   0.94 0.05 0.   0.   0.   0.  ]\n",
      "\t [0.01 0.81 0.15 0.   0.02 0.01 0.  ]\n",
      "\t [0.01 0.9  0.08 0.   0.   0.   0.  ]\n",
      "md_1m_2013\n",
      "\t [0.02 0.19 0.76 0.   0.02 0.01 0.  ]\n",
      "\t [0.12 0.5  0.37 0.   0.01 0.01 0.  ]\n",
      "\t [0.   0.83 0.15 0.   0.01 0.01 0.  ]\n",
      "\t [0.   0.71 0.24 0.   0.03 0.01 0.  ]\n",
      "\t [0.08 0.6  0.29 0.   0.02 0.01 0.  ]\n",
      "\t [0.02 0.46 0.45 0.   0.05 0.02 0.  ]\n",
      "\t [0.01 0.25 0.72 0.   0.01 0.01 0.  ]\n",
      "\t [0.94 0.05 0.01 0.   0.   0.   0.  ]\n",
      "\t [0.   0.74 0.25 0.   0.   0.   0.  ]\n",
      "\t [0.01 0.47 0.32 0.01 0.13 0.06 0.  ]\n",
      "\t [0.   0.33 0.62 0.   0.04 0.02 0.  ]\n",
      "\t [0.01 0.64 0.25 0.02 0.06 0.03 0.  ]\n",
      "\t [0.   0.65 0.31 0.   0.03 0.01 0.  ]\n",
      "\t [0.13 0.18 0.64 0.   0.03 0.02 0.  ]\n",
      "\t [0.96 0.01 0.02 0.   0.   0.   0.  ]\n",
      "\t [0.   0.54 0.26 0.   0.14 0.06 0.  ]\n",
      "\t [0.   0.59 0.39 0.   0.01 0.01 0.  ]\n",
      "\t [0.49 0.11 0.15 0.06 0.16 0.04 0.  ]\n",
      "\t [0.41 0.47 0.1  0.   0.01 0.01 0.  ]\n",
      "\t [0.   0.45 0.47 0.   0.05 0.03 0.  ]\n",
      "\t [0.   0.55 0.38 0.01 0.03 0.02 0.  ]\n",
      "\t [0.   0.31 0.67 0.   0.01 0.01 0.  ]\n",
      "\t [0.   0.58 0.24 0.01 0.11 0.05 0.  ]\n",
      "\t [0.05 0.29 0.59 0.01 0.04 0.02 0.  ]\n",
      "\t [0.85 0.08 0.06 0.   0.   0.   0.  ]\n",
      "\t [0.04 0.64 0.22 0.   0.08 0.02 0.  ]\n",
      "\t [0.86 0.04 0.09 0.   0.01 0.   0.  ]\n",
      "\t [0.   0.44 0.23 0.   0.24 0.09 0.  ]\n",
      "\t [0.94 0.04 0.02 0.   0.   0.   0.  ]\n",
      "\t [0.   0.5  0.44 0.   0.05 0.01 0.  ]\n",
      "\t [0.   0.23 0.67 0.   0.07 0.02 0.  ]\n",
      "\t [0.   0.71 0.26 0.   0.02 0.01 0.  ]\n",
      "\t [0.   0.58 0.41 0.   0.01 0.   0.  ]\n",
      "\t [0.   0.41 0.55 0.   0.03 0.01 0.  ]\n",
      "\t [0.07 0.48 0.43 0.   0.01 0.   0.  ]\n",
      "\t [0.01 0.5  0.43 0.02 0.03 0.01 0.  ]\n",
      "\t [0.45 0.11 0.43 0.   0.01 0.   0.  ]\n",
      "\t [0.01 0.66 0.32 0.   0.01 0.01 0.  ]\n",
      "\t [0.   0.35 0.56 0.   0.07 0.03 0.  ]\n",
      "\t [0.15 0.49 0.15 0.   0.16 0.06 0.  ]\n",
      "\t [0.   0.91 0.07 0.   0.   0.   0.  ]\n",
      "\t [0.01 0.43 0.49 0.   0.05 0.02 0.  ]\n",
      "\t [0.02 0.43 0.22 0.   0.24 0.09 0.  ]\n",
      "\t [0.   0.47 0.47 0.   0.04 0.01 0.  ]\n",
      "\t [0.   0.84 0.14 0.   0.01 0.   0.  ]\n",
      "\t [0.09 0.54 0.36 0.   0.01 0.   0.  ]\n",
      "\t [0.29 0.21 0.24 0.   0.19 0.06 0.  ]\n",
      "\t [0.13 0.46 0.38 0.   0.02 0.01 0.  ]\n",
      "\t [0.15 0.35 0.48 0.   0.01 0.01 0.  ]\n",
      "\t [0.   0.43 0.24 0.   0.24 0.09 0.  ]\n",
      "va_1m_2014\n",
      "\t [0.02 0.81 0.15 0.01 0.01 0.01 0.  ]\n",
      "\t [0.   0.85 0.13 0.   0.01 0.01 0.  ]\n",
      "\t [0.   0.96 0.03 0.   0.   0.01 0.  ]\n",
      "\t [0.   0.8  0.19 0.   0.01 0.01 0.  ]\n",
      "\t [0.35 0.43 0.18 0.   0.02 0.01 0.  ]\n",
      "\t [0.01 0.58 0.39 0.   0.01 0.01 0.  ]\n",
      "\t [0.   0.9  0.09 0.   0.   0.   0.  ]\n",
      "\t [0.   0.92 0.07 0.   0.   0.   0.  ]\n",
      "\t [0.   0.9  0.09 0.   0.   0.   0.  ]\n",
      "\t [0.69 0.2  0.1  0.   0.   0.01 0.  ]\n",
      "\t [0.   0.96 0.04 0.   0.   0.   0.  ]\n",
      "\t [0.01 0.54 0.41 0.   0.02 0.02 0.  ]\n",
      "\t [0.1  0.01 0.   0.   0.   0.   0.9 ]\n",
      "\t [0.01 0.7  0.27 0.   0.01 0.01 0.  ]\n",
      "\t [0.   0.92 0.06 0.   0.01 0.01 0.  ]\n",
      "\t [0.   0.81 0.17 0.   0.01 0.01 0.  ]\n",
      "\t [0.   0.71 0.02 0.   0.   0.   0.26]\n",
      "\t [0.   0.99 0.   0.   0.   0.   0.  ]\n",
      "\t [0.02 0.64 0.31 0.   0.02 0.02 0.  ]\n",
      "\t [0. 1. 0. 0. 0. 0. 0.]\n",
      "\t [0.   0.75 0.23 0.   0.01 0.01 0.  ]\n",
      "\t [0.   0.73 0.26 0.   0.   0.01 0.  ]\n",
      "\t [0.   0.89 0.1  0.   0.   0.01 0.  ]\n",
      "\t [0.01 0.74 0.23 0.   0.01 0.01 0.  ]\n",
      "\t [0.   0.79 0.2  0.   0.   0.01 0.  ]\n",
      "\t [0.01 0.83 0.13 0.   0.01 0.01 0.  ]\n",
      "\t [0.   0.78 0.18 0.02 0.01 0.01 0.  ]\n",
      "\t [0.14 0.29 0.01 0.   0.01 0.   0.55]\n",
      "\t [0.01 0.7  0.29 0.   0.01 0.01 0.  ]\n",
      "\t [0.01 0.8  0.16 0.01 0.01 0.01 0.  ]\n",
      "\t [0.   0.63 0.33 0.   0.02 0.02 0.  ]\n",
      "\t [0.01 0.78 0.19 0.   0.01 0.01 0.  ]\n",
      "\t [0.01 0.81 0.15 0.   0.01 0.01 0.  ]\n",
      "\t [0.   0.91 0.08 0.   0.   0.   0.  ]\n",
      "\t [0.01 0.73 0.25 0.   0.   0.01 0.  ]\n",
      "\t [0.03 0.82 0.13 0.   0.02 0.01 0.  ]\n",
      "\t [0.   0.53 0.42 0.   0.03 0.02 0.  ]\n",
      "\t [0.01 0.77 0.2  0.   0.01 0.01 0.  ]\n",
      "\t [0.   0.65 0.33 0.   0.01 0.01 0.  ]\n",
      "\t [0.02 0.9  0.07 0.   0.   0.01 0.  ]\n",
      "\t [0.05 0.84 0.1  0.   0.01 0.01 0.  ]\n",
      "\t [0.   0.93 0.06 0.   0.   0.01 0.  ]\n",
      "\t [0.01 0.35 0.56 0.   0.05 0.03 0.  ]\n",
      "\t [0.   0.92 0.04 0.   0.02 0.02 0.  ]\n",
      "\t [0.25 0.42 0.31 0.   0.01 0.01 0.  ]\n",
      "\t [0.01 0.78 0.2  0.   0.01 0.   0.  ]\n",
      "\t [0.   0.65 0.32 0.   0.01 0.01 0.  ]\n",
      "\t [0.   0.83 0.14 0.   0.01 0.01 0.  ]\n",
      "\t [0.   0.55 0.34 0.   0.01 0.01 0.09]\n",
      "\t [0.   0.76 0.23 0.   0.01 0.01 0.  ]\n",
      "md_1m_2015\n",
      "\t [0.29 0.31 0.29 0.   0.09 0.02 0.  ]\n",
      "\t [0.6  0.18 0.19 0.   0.02 0.01 0.  ]\n",
      "\t [0.44 0.23 0.32 0.   0.   0.   0.  ]\n",
      "\t [0.78 0.08 0.14 0.   0.   0.   0.  ]\n",
      "\t [0.54 0.12 0.31 0.   0.03 0.   0.  ]\n",
      "\t [0.26 0.35 0.25 0.01 0.1  0.03 0.  ]\n",
      "\t [0.01 0.55 0.28 0.01 0.11 0.04 0.  ]\n",
      "\t [0.04 0.31 0.53 0.   0.1  0.01 0.  ]\n",
      "\t [0.29 0.36 0.35 0.   0.01 0.   0.  ]\n",
      "pa_1m_2013\n",
      "\t [0.   0.7  0.28 0.   0.01 0.01 0.  ]\n",
      "\t [0.01 0.54 0.42 0.   0.01 0.01 0.  ]\n",
      "\t [0.   0.96 0.03 0.   0.   0.   0.  ]\n",
      "\t [0.   0.51 0.36 0.01 0.1  0.02 0.  ]\n",
      "\t [0.02 0.84 0.13 0.   0.   0.   0.  ]\n",
      "\t [0.01 0.77 0.16 0.01 0.03 0.02 0.  ]\n",
      "\t [0.   0.71 0.27 0.   0.   0.01 0.  ]\n",
      "\t [0.   0.39 0.56 0.   0.03 0.01 0.  ]\n",
      "\t [0.02 0.62 0.3  0.   0.04 0.02 0.  ]\n",
      "\t [0.   0.83 0.12 0.02 0.03 0.01 0.  ]\n",
      "\t [0.03 0.29 0.14 0.01 0.41 0.12 0.  ]\n",
      "\t [0.   0.45 0.46 0.   0.06 0.02 0.  ]\n",
      "\t [0.   0.56 0.34 0.01 0.07 0.02 0.  ]\n",
      "\t [0.   0.45 0.51 0.   0.02 0.01 0.  ]\n",
      "\t [0.01 0.47 0.5  0.   0.01 0.01 0.  ]\n",
      "\t [0.   0.19 0.69 0.01 0.09 0.02 0.  ]\n",
      "\t [0.25 0.34 0.35 0.   0.05 0.01 0.  ]\n",
      "\t [0.02 0.69 0.2  0.01 0.07 0.01 0.  ]\n",
      "\t [0.   0.69 0.05 0.   0.   0.   0.25]\n",
      "\t [0.   0.36 0.61 0.   0.02 0.01 0.  ]\n",
      "\t [0.02 0.43 0.39 0.   0.13 0.03 0.  ]\n",
      "\t [0.   0.92 0.07 0.   0.   0.   0.  ]\n",
      "\t [0.01 0.2  0.56 0.01 0.17 0.05 0.  ]\n",
      "\t [0.   0.22 0.72 0.01 0.03 0.02 0.  ]\n",
      "\t [0.   0.54 0.4  0.   0.04 0.01 0.  ]\n",
      "\t [0.02 0.54 0.4  0.   0.02 0.01 0.  ]\n",
      "\t [0.   0.64 0.35 0.   0.   0.   0.  ]\n",
      "\t [0.03 0.8  0.14 0.   0.01 0.01 0.  ]\n",
      "\t [0.   0.99 0.01 0.   0.   0.   0.  ]\n",
      "\t [0.   0.8  0.03 0.   0.   0.   0.17]\n",
      "\t [0.   0.33 0.62 0.   0.02 0.02 0.  ]\n",
      "\t [0.01 0.19 0.62 0.01 0.15 0.02 0.  ]\n",
      "\t [0.   0.95 0.03 0.   0.   0.   0.  ]\n",
      "\t [0.01 0.93 0.05 0.   0.   0.   0.  ]\n",
      "\t [0.01 0.85 0.11 0.01 0.01 0.01 0.  ]\n",
      "\t [0.01 0.21 0.75 0.   0.02 0.01 0.  ]\n",
      "\t [0.01 0.79 0.19 0.   0.   0.01 0.  ]\n",
      "\t [0.3  0.62 0.05 0.   0.02 0.01 0.  ]\n",
      "\t [0.06 0.69 0.21 0.   0.03 0.01 0.  ]\n",
      "\t [0.01 0.8  0.17 0.   0.01 0.01 0.  ]\n",
      "\t [0.01 0.65 0.31 0.   0.02 0.01 0.  ]\n",
      "\t [0.02 0.41 0.45 0.   0.09 0.03 0.  ]\n",
      "\t [0.01 0.63 0.34 0.01 0.01 0.01 0.  ]\n",
      "\t [0.   0.9  0.09 0.01 0.   0.   0.  ]\n",
      "\t [0.01 0.29 0.47 0.   0.2  0.02 0.  ]\n",
      "\t [0.   0.79 0.2  0.   0.   0.   0.  ]\n",
      "\t [0.   0.59 0.36 0.   0.03 0.02 0.  ]\n",
      "\t [0.   0.78 0.2  0.   0.   0.01 0.  ]\n",
      "\t [0.01 0.74 0.23 0.01 0.   0.   0.01]\n",
      "\t [0.   0.92 0.07 0.   0.   0.   0.  ]\n",
      "de_1m_2013\n",
      "\t [0.01 0.45 0.52 0.   0.01 0.01 0.  ]\n",
      "\t [0.02 0.36 0.59 0.   0.02 0.01 0.  ]\n",
      "\t [0.01 0.47 0.3  0.01 0.17 0.06 0.  ]\n",
      "\t [0.02 0.17 0.66 0.01 0.11 0.04 0.  ]\n",
      "\t [0.01 0.26 0.66 0.   0.05 0.02 0.  ]\n",
      "\t [0.01 0.41 0.56 0.   0.01 0.01 0.  ]\n",
      "\t [0.04 0.15 0.36 0.02 0.06 0.03 0.36]\n",
      "\t [0.05 0.41 0.48 0.   0.03 0.03 0.  ]\n",
      "\t [0.01 0.55 0.42 0.   0.01 0.01 0.  ]\n",
      "\t [0.01 0.35 0.58 0.01 0.04 0.02 0.  ]\n",
      "\t [0.03 0.34 0.58 0.   0.03 0.02 0.  ]\n",
      "\t [0.01 0.56 0.41 0.   0.01 0.01 0.  ]\n",
      "\t [0.   0.46 0.51 0.   0.01 0.01 0.  ]\n",
      "\t [0.01 0.47 0.49 0.   0.02 0.01 0.  ]\n",
      "\t [0.02 0.41 0.51 0.01 0.04 0.02 0.  ]\n",
      "\t [0.   0.5  0.31 0.01 0.14 0.04 0.  ]\n",
      "\t [0.06 0.23 0.62 0.   0.04 0.02 0.02]\n",
      "\t [0.   0.48 0.5  0.   0.01 0.01 0.  ]\n",
      "\t [0.01 0.6  0.37 0.   0.02 0.01 0.  ]\n",
      "\t [0.02 0.12 0.18 0.01 0.   0.   0.67]\n",
      "\t [0.   0.45 0.52 0.   0.01 0.01 0.  ]\n",
      "\t [0.04 0.1  0.31 0.02 0.03 0.01 0.49]\n",
      "\t [0.02 0.35 0.56 0.   0.04 0.02 0.  ]\n",
      "\t [0.01 0.29 0.64 0.   0.03 0.02 0.  ]\n",
      "\t [0.   0.25 0.69 0.   0.03 0.02 0.  ]\n",
      "\t [0.01 0.4  0.55 0.01 0.01 0.01 0.  ]\n",
      "\t [0.05 0.   0.2  0.   0.   0.   0.75]\n",
      "\t [0.   0.48 0.49 0.   0.01 0.01 0.  ]\n",
      "\t [0.01 0.31 0.64 0.01 0.02 0.01 0.  ]\n",
      "\t [0.   0.48 0.46 0.   0.03 0.02 0.  ]\n",
      "\t [0.   0.25 0.72 0.   0.02 0.01 0.  ]\n",
      "\t [0.01 0.3  0.5  0.02 0.12 0.05 0.  ]\n",
      "\t [0.04 0.23 0.63 0.02 0.04 0.03 0.  ]\n",
      "\t [0.03 0.22 0.61 0.   0.09 0.05 0.  ]\n",
      "\t [0.01 0.61 0.32 0.   0.04 0.02 0.  ]\n",
      "\t [0.01 0.61 0.36 0.   0.01 0.01 0.  ]\n",
      "\t [0.01 0.56 0.41 0.   0.01 0.01 0.  ]\n",
      "\t [0.06 0.22 0.62 0.02 0.05 0.04 0.  ]\n",
      "\t [0.   0.32 0.65 0.   0.02 0.01 0.  ]\n",
      "\t [0.03 0.3  0.63 0.01 0.02 0.01 0.  ]\n",
      "\t [0.02 0.5  0.32 0.   0.12 0.04 0.  ]\n",
      "\t [0.   0.46 0.51 0.   0.01 0.01 0.  ]\n",
      "\t [0.69 0.03 0.12 0.03 0.01 0.01 0.11]\n",
      "\t [0.05 0.14 0.7  0.01 0.07 0.03 0.  ]\n",
      "\t [0.05 0.14 0.2  0.06 0.24 0.06 0.24]\n",
      "\t [0.09 0.02 0.46 0.   0.   0.   0.43]\n",
      "\t [0.01 0.49 0.46 0.   0.02 0.01 0.  ]\n",
      "\t [0.19 0.09 0.69 0.   0.   0.   0.02]\n",
      "\t [0.   0.43 0.54 0.01 0.01 0.01 0.  ]\n",
      "\t [0.01 0.29 0.65 0.   0.03 0.02 0.  ]\n",
      "ny_1m_2013\n",
      "\t [0.   0.21 0.76 0.   0.01 0.01 0.  ]\n",
      "\t [0.01 0.56 0.42 0.   0.   0.01 0.  ]\n",
      "\t [0.59 0.33 0.03 0.   0.   0.   0.03]\n",
      "\t [0.   0.19 0.17 0.   0.   0.   0.63]\n",
      "\t [0.   0.23 0.65 0.   0.08 0.04 0.  ]\n",
      "\t [0.01 0.78 0.19 0.   0.01 0.01 0.  ]\n",
      "\t [0.01 0.68 0.29 0.   0.01 0.01 0.  ]\n",
      "\t [0.01 0.44 0.53 0.   0.01 0.01 0.  ]\n",
      "\t [0.03 0.89 0.07 0.   0.   0.   0.  ]\n",
      "\t [0.06 0.9  0.04 0.   0.   0.   0.  ]\n",
      "\t [0.04 0.41 0.5  0.   0.03 0.02 0.  ]\n",
      "\t [0.   0.17 0.32 0.   0.01 0.01 0.49]\n",
      "\t [0.01 0.7  0.28 0.   0.   0.01 0.  ]\n",
      "\t [0.01 0.84 0.15 0.   0.   0.01 0.  ]\n",
      "\t [0.02 0.95 0.03 0.   0.   0.   0.  ]\n",
      "\t [0.   0.61 0.37 0.   0.01 0.01 0.  ]\n",
      "\t [0.01 0.62 0.33 0.   0.02 0.02 0.  ]\n",
      "\t [0.22 0.07 0.06 0.   0.   0.   0.64]\n",
      "\t [0.1  0.41 0.47 0.   0.01 0.01 0.  ]\n",
      "\t [0.22 0.53 0.21 0.   0.02 0.02 0.  ]\n",
      "\t [0.01 0.74 0.23 0.   0.   0.01 0.  ]\n",
      "\t [0.   0.41 0.32 0.02 0.17 0.07 0.  ]\n",
      "\t [0.01 0.72 0.26 0.   0.   0.01 0.  ]\n",
      "\t [0.01 0.75 0.22 0.   0.01 0.01 0.  ]\n",
      "\t [0.01 0.57 0.4  0.   0.01 0.01 0.  ]\n",
      "\t [0.   0.53 0.44 0.   0.01 0.02 0.  ]\n",
      "\t [0.01 0.74 0.23 0.   0.01 0.01 0.  ]\n",
      "\t [0.03 0.52 0.25 0.   0.02 0.01 0.16]\n",
      "\t [0.   0.42 0.54 0.01 0.02 0.02 0.  ]\n",
      "\t [0.01 0.35 0.62 0.   0.01 0.01 0.  ]\n",
      "\t [0.01 0.56 0.4  0.   0.01 0.02 0.  ]\n",
      "\t [0.   0.41 0.56 0.   0.02 0.01 0.  ]\n",
      "\t [0.09 0.46 0.42 0.   0.01 0.02 0.  ]\n",
      "\t [0.02 0.74 0.16 0.   0.05 0.03 0.  ]\n",
      "\t [0.   0.73 0.25 0.   0.01 0.01 0.  ]\n",
      "\t [0.04 0.49 0.33 0.   0.02 0.02 0.1 ]\n",
      "\t [0.02 0.52 0.42 0.   0.01 0.02 0.  ]\n",
      "\t [0.07 0.34 0.56 0.   0.01 0.01 0.  ]\n",
      "\t [0.01 0.72 0.25 0.   0.01 0.01 0.  ]\n",
      "\t [0.   0.77 0.21 0.   0.   0.01 0.  ]\n",
      "\t [0.01 0.91 0.07 0.   0.   0.01 0.  ]\n",
      "\t [0.   0.41 0.56 0.   0.01 0.01 0.  ]\n",
      "\t [0.   0.35 0.61 0.   0.02 0.01 0.  ]\n",
      "\t [0.02 0.68 0.1  0.   0.   0.01 0.2 ]\n",
      "\t [0.01 0.69 0.26 0.   0.02 0.02 0.  ]\n",
      "\t [0.   0.27 0.1  0.   0.   0.   0.63]\n",
      "\t [0.01 0.69 0.29 0.   0.   0.01 0.  ]\n",
      "\t [0.01 0.73 0.25 0.   0.   0.01 0.  ]\n",
      "\t [0.17 0.56 0.25 0.   0.01 0.01 0.  ]\n",
      "\t [0.01 0.86 0.13 0.   0.   0.   0.  ]\n",
      "nc_1m_2014\n",
      "\t [0.   0.14 0.08 0.   0.   0.   0.78]\n",
      "\t [0.   0.18 0.04 0.   0.   0.   0.78]\n",
      "\t [0.05 0.02 0.   0.01 0.   0.   0.92]\n",
      "\t [0.01 0.18 0.02 0.   0.   0.   0.78]\n",
      "\t [0.12 0.06 0.04 0.01 0.   0.   0.78]\n",
      "\t [0.   0.09 0.12 0.   0.   0.   0.78]\n",
      "\t [0.   0.15 0.06 0.   0.   0.   0.78]\n",
      "\t [0.1  0.07 0.04 0.   0.   0.   0.78]\n",
      "\t [0.   0.16 0.05 0.   0.   0.   0.79]\n"
     ]
    }
   ],
   "source": [
    "for k, vs in state_year_fns.items():\n",
    "    print(k)\n",
    "    for count in lc_counts[k]:\n",
    "        print(\"\\t\",np.round(count/count.sum(), 2))"
   ]
  },
  {
   "cell_type": "code",
   "execution_count": 77,
   "metadata": {
    "scrolled": false
   },
   "outputs": [
    {
     "name": "stdout",
     "output_type": "stream",
     "text": [
      "nj_1m_2013\n",
      "[0.096 0.402 0.274 0.013 0.177 0.037]\n"
     ]
    },
    {
     "data": {
      "image/png": "[encoded data removed]",
      "text/plain": [
       "<Figure size 432x288 with 1 Axes>"
      ]
     },
     "metadata": {},
     "output_type": "display_data"
    },
    {
     "name": "stdout",
     "output_type": "stream",
     "text": [
      "wv_1m_2014\n",
      "[0.006 0.761 0.217 0.001 0.01  0.005]\n"
     ]
    },
    {
     "data": {
      "image/png": "[encoded data removed]",
      "text/plain": [
       "<Figure size 432x288 with 1 Axes>"
      ]
     },
     "metadata": {},
     "output_type": "display_data"
    },
    {
     "name": "stdout",
     "output_type": "stream",
     "text": [
      "md_1m_2013\n",
      "[0.147 0.437 0.34  0.004 0.052 0.021]\n"
     ]
    },
    {
     "data": {
      "image/png": "[encoded data removed]",
      "text/plain": [
       "<Figure size 432x288 with 1 Axes>"
      ]
     },
     "metadata": {},
     "output_type": "display_data"
    },
    {
     "name": "stdout",
     "output_type": "stream",
     "text": [
      "va_1m_2014\n",
      "[0.038 0.758 0.185 0.001 0.009 0.009]\n"
     ]
    },
    {
     "data": {
      "image/png": "[encoded data removed]",
      "text/plain": [
       "<Figure size 432x288 with 1 Axes>"
      ]
     },
     "metadata": {},
     "output_type": "display_data"
    },
    {
     "name": "stdout",
     "output_type": "stream",
     "text": [
      "md_1m_2015\n",
      "[0.361 0.276 0.296 0.002 0.052 0.012]\n"
     ]
    },
    {
     "data": {
      "image/png": "[encoded data removed]",
      "text/plain": [
       "<Figure size 432x288 with 1 Axes>"
      ]
     },
     "metadata": {},
     "output_type": "display_data"
    },
    {
     "name": "stdout",
     "output_type": "stream",
     "text": [
      "pa_1m_2013\n",
      "[0.02  0.615 0.305 0.004 0.042 0.014]\n"
     ]
    },
    {
     "data": {
      "image/png": "[encoded data removed]",
      "text/plain": [
       "<Figure size 432x288 with 1 Axes>"
      ]
     },
     "metadata": {},
     "output_type": "display_data"
    },
    {
     "name": "stdout",
     "output_type": "stream",
     "text": [
      "de_1m_2013\n",
      "[0.038 0.365 0.527 0.007 0.042 0.02 ]\n"
     ]
    },
    {
     "data": {
      "image/png": "[encoded data removed]",
      "text/plain": [
       "<Figure size 432x288 with 1 Axes>"
      ]
     },
     "metadata": {},
     "output_type": "display_data"
    },
    {
     "name": "stdout",
     "output_type": "stream",
     "text": [
      "ny_1m_2013\n",
      "[0.041 0.598 0.331 0.001 0.015 0.013]\n"
     ]
    },
    {
     "data": {
      "image/png": "[encoded data removed]",
      "text/plain": [
       "<Figure size 432x288 with 1 Axes>"
      ]
     },
     "metadata": {},
     "output_type": "display_data"
    },
    {
     "name": "stdout",
     "output_type": "stream",
     "text": [
      "nc_1m_2014\n",
      "[0.153 0.583 0.242 0.012 0.006 0.004]\n"
     ]
    },
    {
     "data": {
      "image/png": "[encoded data removed]",
      "text/plain": [
       "<Figure size 432x288 with 1 Axes>"
      ]
     },
     "metadata": {},
     "output_type": "display_data"
    }
   ],
   "source": [
    "for k, vs in state_year_fns.items():\n",
    "    print(k)\n",
    "    summed_counts = lc_counts[k].sum(axis=0)\n",
    "    summed_counts = summed_counts[:-1]\n",
    "    print(np.round(summed_counts/summed_counts.sum(), 3))\n",
    "    \n",
    "    plt.figure()\n",
    "    plt.bar(range(6),summed_counts/summed_counts.sum())\n",
    "    #plt.\n",
    "    plt.show()\n",
    "    plt.close()"
   ]
  },
  {
   "cell_type": "code",
   "execution_count": null,
   "metadata": {},
   "outputs": [],
   "source": []
  }
 ],
 "metadata": {
  "kernelspec": {
   "display_name": "Python 3.5",
   "language": "python",
   "name": "python3"
  },
  "language_info": {
   "codemirror_mode": {
    "name": "ipython",
    "version": 3
   },
   "file_extension": ".py",
   "mimetype": "text/x-python",
   "name": "python",
   "nbconvert_exporter": "python",
   "pygments_lexer": "ipython3",
   "version": "3.5.5"
  }
 },
 "nbformat": 4,
 "nbformat_minor": 2
}
